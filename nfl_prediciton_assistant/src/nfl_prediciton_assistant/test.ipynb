{
 "cells": [
  {
   "cell_type": "code",
   "execution_count": 1,
   "metadata": {},
   "outputs": [],
   "source": [
    "import yaml"
   ]
  },
  {
   "cell_type": "code",
   "execution_count": 4,
   "metadata": {},
   "outputs": [
    {
     "name": "stdout",
     "output_type": "stream",
     "text": [
      "{'knowledge_base': {'csv_paths': ['/home/sachin/Music/NFL/Kaggle_Data/team_stats_2003_2023.csv', '/home/sachin/Music/NFL/Kaggle_Data/nfl_combine_2010_to_2023.csv', '/home/sachin/Music/NFL/Kaggle_Data/ThrowbackDataThursday 2019 Week 1 - NFL Injuries 2012 to 2017.csv'], 'json_paths': ['/home/sachin/Music/NFL/SportsRadar_API/season_schedule/2023/season_schedule_2023_REG.json', '/home/sachin/Music/NFL/SportsRadar_API/nfl_injuries/2023/nfl_injuries_2023_REG_week1.json', '/home/sachin/Music/NFL/SportsRadar_API/season_standing/2023/season_standings_2023_REG.json']}, 'db': {'chroma_db_path': 'db'}}\n"
     ]
    }
   ],
   "source": [
    "base_config_path = \"/home/sachin/Music/NeevHQ/NFL_Prediction/nfl_prediciton_assistant/src/nfl_prediciton_assistant/config/base_config.yaml\"\n",
    "\n",
    "with open(base_config_path, 'r') as f:\n",
    "    base_config = yaml.safe_load(f)\n",
    "    print(base_config)"
   ]
  },
  {
   "cell_type": "code",
   "execution_count": 6,
   "metadata": {},
   "outputs": [
    {
     "name": "stdout",
     "output_type": "stream",
     "text": [
      "{'csv_paths': ['/home/sachin/Music/NFL/Kaggle_Data/team_stats_2003_2023.csv', '/home/sachin/Music/NFL/Kaggle_Data/nfl_combine_2010_to_2023.csv', '/home/sachin/Music/NFL/Kaggle_Data/ThrowbackDataThursday 2019 Week 1 - NFL Injuries 2012 to 2017.csv'], 'json_paths': ['/home/sachin/Music/NFL/SportsRadar_API/season_schedule/2023/season_schedule_2023_REG.json', '/home/sachin/Music/NFL/SportsRadar_API/nfl_injuries/2023/nfl_injuries_2023_REG_week1.json', '/home/sachin/Music/NFL/SportsRadar_API/season_standing/2023/season_standings_2023_REG.json']}\n",
      "['/home/sachin/Music/NFL/Kaggle_Data/team_stats_2003_2023.csv', '/home/sachin/Music/NFL/Kaggle_Data/nfl_combine_2010_to_2023.csv', '/home/sachin/Music/NFL/Kaggle_Data/ThrowbackDataThursday 2019 Week 1 - NFL Injuries 2012 to 2017.csv']\n"
     ]
    }
   ],
   "source": [
    "base_knowledge_config = base_config.get(\"knowledge_base\")\n",
    "print(base_knowledge_config)\n",
    "\n",
    "csv_paths = base_knowledge_config.get(\"csv_paths\", [])\n",
    "print(csv_paths)"
   ]
  },
  {
   "cell_type": "code",
   "execution_count": 8,
   "metadata": {},
   "outputs": [
    {
     "name": "stdout",
     "output_type": "stream",
     "text": [
      "db\n"
     ]
    }
   ],
   "source": [
    "base_db_config = base_config.get(\"db\")\n",
    "db_path = base_db_config.get(\"chroma_db_path\")\n",
    "print(db_path)"
   ]
  },
  {
   "cell_type": "code",
   "execution_count": null,
   "metadata": {},
   "outputs": [],
   "source": [
    "  # context: [\n",
    "  #   ['environmental_impact_task'], \n",
    "  #   ['coaching_startegy_task'],\n",
    "  #   ['current_season_perfromance_task'],\n",
    "  #   ['head_to_head_analysis_task'],\n",
    "  #   ['injury_analysis_task'],\n",
    "  #   ['team_changes_task'],\n",
    "  #   ['trend_analysis_task'],\n",
    "  #   ]\n",
    "\n",
    "\n",
    "#  context: [['performance_summary_task']]"
   ]
  },
  {
   "cell_type": "code",
   "execution_count": null,
   "metadata": {},
   "outputs": [
    {
     "ename": "",
     "evalue": "",
     "output_type": "error",
     "traceback": [
      "\u001b[1;31mRunning cells with '.venv (Python 3.11.5)' requires the ipykernel package.\n",
      "\u001b[1;31mRun the following command to install 'ipykernel' into the Python environment. \n",
      "\u001b[1;31mCommand: '/home/sachin/Music/NeevHQ/NFL_Prediction/nfl_prediciton_assistant/.venv/bin/python -m pip install ipykernel -U --force-reinstall'"
     ]
    }
   ],
   "source": [
    "import time\n",
    "\n",
    "s = time.time()\n",
    "print(s)"
   ]
  }
 ],
 "metadata": {
  "kernelspec": {
   "display_name": ".venv",
   "language": "python",
   "name": "python3"
  },
  "language_info": {
   "codemirror_mode": {
    "name": "ipython",
    "version": 3
   },
   "file_extension": ".py",
   "mimetype": "text/x-python",
   "name": "python",
   "nbconvert_exporter": "python",
   "pygments_lexer": "ipython3",
   "version": "3.11.5"
  }
 },
 "nbformat": 4,
 "nbformat_minor": 2
}
